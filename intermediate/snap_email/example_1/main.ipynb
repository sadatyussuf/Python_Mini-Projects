{
 "cells": [
  {
   "cell_type": "code",
   "execution_count": 2,
   "metadata": {},
   "outputs": [],
   "source": [
    "import pandas as pd\n",
    "from sklearn.model_selection import train_test_split\n",
    "from sklearn.feature_extraction.text import CountVectorizer\n",
    "from sklearn import svm\n",
    "import pathlib\n"
   ]
  },
  {
   "cell_type": "code",
   "execution_count": 17,
   "metadata": {},
   "outputs": [],
   "source": [
    "# DATA_FILE = pathlib.Path(__file__).parent / \"spam.csv\"\n",
    "\n",
    "# spam = pd.read_csv(DATA_FILE)\n",
    "spam = pd.read_csv(\"spam.csv\")\n",
    "\n",
    "z = spam[\"v2\"]\n",
    "y = spam[\"v1\"]"
   ]
  },
  {
   "cell_type": "code",
   "execution_count": 19,
   "metadata": {},
   "outputs": [],
   "source": [
    "z_train, z_test, y_train, y_test = train_test_split(z, y, test_size=0.2)"
   ]
  },
  {
   "cell_type": "code",
   "execution_count": 20,
   "metadata": {},
   "outputs": [],
   "source": [
    "cv = CountVectorizer()\n",
    "features = cv.fit_transform(z_train)"
   ]
  },
  {
   "cell_type": "code",
   "execution_count": 21,
   "metadata": {},
   "outputs": [
    {
     "name": "stdout",
     "output_type": "stream",
     "text": [
      "  (0, 7421)\t1\n",
      "  (0, 5945)\t1\n",
      "  (0, 3614)\t1\n",
      "  (0, 4226)\t1\n",
      "  (0, 3242)\t1\n",
      "  (0, 4451)\t1\n",
      "  (1, 6195)\t1\n",
      "  (1, 757)\t1\n",
      "  (1, 3831)\t2\n",
      "  (1, 2571)\t1\n",
      "  (1, 3717)\t1\n",
      "  (1, 3405)\t1\n",
      "  (1, 1554)\t1\n",
      "  (1, 4369)\t1\n",
      "  (1, 4793)\t1\n",
      "  (1, 3928)\t1\n",
      "  (1, 7387)\t1\n",
      "  (1, 383)\t1\n",
      "  (1, 3729)\t1\n",
      "  (1, 384)\t1\n",
      "  (1, 7106)\t1\n",
      "  (1, 4026)\t1\n",
      "  (1, 6138)\t1\n",
      "  (1, 6458)\t1\n",
      "  (1, 5426)\t1\n",
      "  :\t:\n",
      "  (4454, 3312)\t1\n",
      "  (4454, 7446)\t1\n",
      "  (4454, 742)\t1\n",
      "  (4455, 2396)\t1\n",
      "  (4455, 2174)\t1\n",
      "  (4455, 3334)\t1\n",
      "  (4455, 1558)\t1\n",
      "  (4455, 4902)\t1\n",
      "  (4455, 5996)\t1\n",
      "  (4456, 7421)\t1\n",
      "  (4456, 7612)\t1\n",
      "  (4456, 945)\t1\n",
      "  (4456, 7359)\t1\n",
      "  (4456, 4553)\t1\n",
      "  (4456, 7293)\t1\n",
      "  (4456, 6766)\t1\n",
      "  (4456, 4595)\t1\n",
      "  (4456, 2359)\t1\n",
      "  (4456, 6149)\t1\n",
      "  (4456, 4896)\t1\n",
      "  (4456, 6881)\t2\n",
      "  (4456, 6917)\t1\n",
      "  (4456, 7431)\t1\n",
      "  (4456, 5163)\t1\n",
      "  (4456, 2682)\t1\n"
     ]
    }
   ],
   "source": [
    "print(features)"
   ]
  },
  {
   "cell_type": "code",
   "execution_count": 22,
   "metadata": {},
   "outputs": [
    {
     "name": "stdout",
     "output_type": "stream",
     "text": [
      "SVC()\n"
     ]
    }
   ],
   "source": [
    "model = svm.SVC()\n",
    "model.fit(features,y_train)\n",
    "print(model)"
   ]
  },
  {
   "cell_type": "code",
   "execution_count": 23,
   "metadata": {},
   "outputs": [
    {
     "name": "stdout",
     "output_type": "stream",
     "text": [
      "Accuracy: 0.9766816143497757\n"
     ]
    }
   ],
   "source": [
    "features_test = cv.transform(z_test)\n",
    "print(f\"Accuracy: {model.score(features_test,y_test)}\")"
   ]
  }
 ],
 "metadata": {
  "kernelspec": {
   "display_name": "Python 3.9.12 ('venv': venv)",
   "language": "python",
   "name": "python3"
  },
  "language_info": {
   "codemirror_mode": {
    "name": "ipython",
    "version": 3
   },
   "file_extension": ".py",
   "mimetype": "text/x-python",
   "name": "python",
   "nbconvert_exporter": "python",
   "pygments_lexer": "ipython3",
   "version": "3.9.12"
  },
  "orig_nbformat": 4,
  "vscode": {
   "interpreter": {
    "hash": "232326d42ea1d8d63f58b968a2db0725aefff35352dbd3037585afef1b5ad3eb"
   }
  }
 },
 "nbformat": 4,
 "nbformat_minor": 2
}
